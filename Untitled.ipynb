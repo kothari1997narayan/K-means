{
 "cells": [
  {
   "cell_type": "code",
   "execution_count": 17,
   "metadata": {},
   "outputs": [],
   "source": [
    "import numpy as np\n",
    "import pandas as pd\n",
    "from matplotlib import pyplot as plt\n",
    "from sklearn.datasets.samples_generator import make_blobs\n",
    "from sklearn.cluster import KMeans"
   ]
  },
  {
   "cell_type": "code",
   "execution_count": 25,
   "metadata": {},
   "outputs": [
    {
     "data": {
      "text/plain": [
       "<matplotlib.collections.PathCollection at 0x6e3f5a7988>"
      ]
     },
     "execution_count": 25,
     "metadata": {},
     "output_type": "execute_result"
    },
    {
     "data": {
      "image/png": "[encoded data removed]",
      "text/plain": [
       "<Figure size 432x288 with 1 Axes>"
      ]
     },
     "metadata": {
      "needs_background": "light"
     },
     "output_type": "display_data"
    }
   ],
   "source": [
    "X, y = make_blobs(n_samples=300, centers=4, cluster_std=0.5)\n",
    "n_clusters = 4\n",
    "max_iteration = 300\n",
    "plt.scatter(X[:,0], X[:,1])"
   ]
  },
  {
   "cell_type": "code",
   "execution_count": 26,
   "metadata": {},
   "outputs": [],
   "source": [
    "def initialize_centroid(X):\n",
    "    random_idx = np.random.permutation(X.shape[0])\n",
    "    centroids = X[random_idx[:n_clusters]]\n",
    "    return centroids"
   ]
  },
  {
   "cell_type": "code",
   "execution_count": 27,
   "metadata": {},
   "outputs": [],
   "source": [
    "def assign_cluster(X, centroids):\n",
    "    distance = np.zeros((X.shape[0], n_clusters))\n",
    "    for k in range(n_clusters):\n",
    "        row_norm = np.linalg.norm(X - centroids[k, :], axis=1)\n",
    "        distance[:, k] = np.square(row_norm)\n",
    "        \n",
    "    cluster_label = np.argmin(distance, axis=1)\n",
    "    return cluster_label\n"
   ]
  },
  {
   "cell_type": "code",
   "execution_count": 28,
   "metadata": {},
   "outputs": [],
   "source": [
    "def compute_centroids(X, labels):\n",
    "    centroids = np.zeros((n_clusters, X.shape[1]))\n",
    "    for k in range(n_clusters):\n",
    "        centroids[k, :] = np.mean(X[labels == k, :], axis=0)\n",
    "    return centroids"
   ]
  },
  {
   "cell_type": "code",
   "execution_count": 29,
   "metadata": {},
   "outputs": [],
   "source": [
    "def compute_sse(X, labels, centroids):\n",
    "    distance = np.zeros(X.shape[0])\n",
    "    for k in range(n_clusters):\n",
    "        distance[labels == k] = np.linalg.norm(X[labels == k] - centroids[k], axis=1)\n",
    "    return np.sum(np.square(distance))"
   ]
  },
  {
   "cell_type": "code",
   "execution_count": 30,
   "metadata": {},
   "outputs": [],
   "source": [
    "new_centroids = initialize_centroid(X)\n",
    "for i in range(max_iteration):\n",
    "    old_centroids = new_centroids\n",
    "    labels = assign_cluster(X, old_centroids)\n",
    "    new_centroids = compute_centroids(X, labels)\n",
    "    if np.all(old_centroids == new_centroids):\n",
    "        break"
   ]
  },
  {
   "cell_type": "code",
   "execution_count": 31,
   "metadata": {},
   "outputs": [
    {
     "data": {
      "text/plain": [
       "<matplotlib.collections.PathCollection at 0x6e3fb6dbc8>"
      ]
     },
     "execution_count": 31,
     "metadata": {},
     "output_type": "execute_result"
    },
    {
     "data": {
      "image/png": "[encoded data removed]",
      "text/plain": [
       "<Figure size 432x288 with 1 Axes>"
      ]
     },
     "metadata": {
      "needs_background": "light"
     },
     "output_type": "display_data"
    }
   ],
   "source": [
    "plt.scatter(X[:,0], X[:,1])\n",
    "plt.scatter(new_centroids[:,0], new_centroids[:,1], s=300, c='red')"
   ]
  },
  {
   "cell_type": "code",
   "execution_count": 32,
   "metadata": {},
   "outputs": [
    {
     "data": {
      "image/png": "[encoded data removed]",
      "text/plain": [
       "<Figure size 432x288 with 1 Axes>"
      ]
     },
     "metadata": {
      "needs_background": "light"
     },
     "output_type": "display_data"
    }
   ],
   "source": [
    "sse = []\n",
    "cent = []\n",
    "for j in range(10):\n",
    "    new_centroids = initialize_centroid(X)\n",
    "    for i in range(max_iteration):\n",
    "        old_centroids = new_centroids\n",
    "        labels = assign_cluster(X, old_centroids)\n",
    "        new_centroids = compute_centroids(X, labels)\n",
    "        if np.all(old_centroids == new_centroids):\n",
    "            break\n",
    "    sse.append(compute_sse(X,labels, new_centroids))\n",
    "    cent.append(new_centroids)\n",
    "\n",
    "plt.scatter(X[:,0], X[:,1])\n",
    "plt.scatter(cent[np.argmin(sse)][:, 0], cent[np.argmin(sse)][:, 1], s=300, c='red')\n",
    "plt.show()"
   ]
  },
  {
   "cell_type": "code",
   "execution_count": 33,
   "metadata": {},
   "outputs": [
    {
     "data": {
      "text/plain": [
       "[328.1212931427933,\n",
       " 152.21604725222576,\n",
       " 328.1212931427933,\n",
       " 327.98723356512744,\n",
       " 152.21604725222576,\n",
       " 152.21604725222576,\n",
       " 332.32323938170987,\n",
       " 152.21604725222576,\n",
       " 328.1212931427933,\n",
       " 332.2033163075764]"
      ]
     },
     "execution_count": 33,
     "metadata": {},
     "output_type": "execute_result"
    }
   ],
   "source": [
    "sse"
   ]
  },
  {
   "cell_type": "code",
   "execution_count": 34,
   "metadata": {},
   "outputs": [
    {
     "data": {
      "text/plain": [
       "[array([[10.01976374, -9.99477357],\n",
       "        [-2.01145299,  3.75412729],\n",
       "        [-1.05917218,  3.5753326 ],\n",
       "        [ 8.94189285, -5.64291016]]), array([[ 9.61259925, -4.76387935],\n",
       "        [10.01976374, -9.99477357],\n",
       "        [-1.50356989,  3.65877012],\n",
       "        [ 8.2344354 , -6.57010704]]), array([[ 8.94189285, -5.64291016],\n",
       "        [-2.01145299,  3.75412729],\n",
       "        [10.01976374, -9.99477357],\n",
       "        [-1.05917218,  3.5753326 ]]), array([[-1.90660463,  3.71746722],\n",
       "        [10.01976374, -9.99477357],\n",
       "        [ 8.94189285, -5.64291016],\n",
       "        [-0.93152059,  3.5754581 ]]), array([[ 9.61259925, -4.76387935],\n",
       "        [10.01976374, -9.99477357],\n",
       "        [ 8.2344354 , -6.57010704],\n",
       "        [-1.50356989,  3.65877012]]), array([[ 9.61259925, -4.76387935],\n",
       "        [-1.50356989,  3.65877012],\n",
       "        [ 8.2344354 , -6.57010704],\n",
       "        [10.01976374, -9.99477357]]), array([[ -1.50356989,   3.65877012],\n",
       "        [  8.94189285,  -5.64291016],\n",
       "        [  9.91475173, -10.48578887],\n",
       "        [ 10.09374948,  -9.64883097]]), array([[ 9.61259925, -4.76387935],\n",
       "        [-1.50356989,  3.65877012],\n",
       "        [10.01976374, -9.99477357],\n",
       "        [ 8.2344354 , -6.57010704]]), array([[10.01976374, -9.99477357],\n",
       "        [-2.01145299,  3.75412729],\n",
       "        [-1.05917218,  3.5753326 ],\n",
       "        [ 8.94189285, -5.64291016]]), array([[ 10.38203278, -10.1547382 ],\n",
       "        [  9.60574198,  -9.81195684],\n",
       "        [ -1.50356989,   3.65877012],\n",
       "        [  8.94189285,  -5.64291016]])]"
      ]
     },
     "execution_count": 34,
     "metadata": {},
     "output_type": "execute_result"
    }
   ],
   "source": [
    "cent"
   ]
  },
  {
   "cell_type": "code",
   "execution_count": null,
   "metadata": {},
   "outputs": [],
   "source": []
  }
 ],
 "metadata": {
  "kernelspec": {
   "display_name": "Python 3",
   "language": "python",
   "name": "python3"
  },
  "language_info": {
   "codemirror_mode": {
    "name": "ipython",
    "version": 3
   },
   "file_extension": ".py",
   "mimetype": "text/x-python",
   "name": "python",
   "nbconvert_exporter": "python",
   "pygments_lexer": "ipython3",
   "version": "3.7.4"
  }
 },
 "nbformat": 4,
 "nbformat_minor": 2
}
