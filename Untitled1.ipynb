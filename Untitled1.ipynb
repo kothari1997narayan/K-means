{
 "cells": [
  {
   "cell_type": "code",
   "execution_count": 49,
   "metadata": {},
   "outputs": [
    {
     "data": {
      "image/png": "[encoded data removed]",
      "text/plain": [
       "<Figure size 432x288 with 1 Axes>"
      ]
     },
     "metadata": {
      "needs_background": "light"
     },
     "output_type": "display_data"
    },
    {
     "data": {
      "image/png": "[encoded data removed]",
      "text/plain": [
       "<Figure size 432x288 with 1 Axes>"
      ]
     },
     "metadata": {
      "needs_background": "light"
     },
     "output_type": "display_data"
    }
   ],
   "source": [
    "import numpy as np\n",
    "import pandas as pd\n",
    "from matplotlib import pyplot as plt\n",
    "from sklearn.datasets.samples_generator import make_blobs\n",
    "from sklearn.cluster import KMeans\n",
    "\n",
    "X, y = make_blobs(n_samples=300, centers=4, cluster_std=0.5)\n",
    "n_clusters = 4\n",
    "max_iteration = 300\n",
    "plt.scatter(X[:,0], X[:,1])\n",
    "plt.show()\n",
    "\n",
    "def initialize_centroid(X):\n",
    "    random_idx = np.random.permutation(X.shape[0])\n",
    "    centroids = X[random_idx[:n_clusters]]\n",
    "    return centroids\n",
    "\n",
    "def assign_cluster(X, centroids):\n",
    "    distance = np.zeros((X.shape[0], n_clusters))\n",
    "    for k in range(n_clusters):\n",
    "        row_norm = np.linalg.norm(X - centroids[k, :], axis=1)\n",
    "        distance[:, k] = np.square(row_norm)\n",
    "        \n",
    "    cluster_label = np.argmin(distance, axis=1)\n",
    "    return cluster_label\n",
    "\n",
    "def compute_centroids(X, labels):\n",
    "    centroids = np.zeros((n_clusters, X.shape[1]))\n",
    "    for k in range(n_clusters):\n",
    "        centroids[k, :] = np.mean(X[labels == k, :], axis=0)\n",
    "    return centroids\n",
    "\n",
    "def compute_sse(X, labels, centroids):\n",
    "    distance = np.zeros(X.shape[0])\n",
    "    for k in range(n_clusters):\n",
    "        distance[labels == k] = np.linalg.norm(X[labels == k] - centroids[k], axis=1)\n",
    "    return np.sum(np.square(distance))\n",
    "\n",
    "sse = []\n",
    "cent = []\n",
    "for j in range(10):\n",
    "    new_centroids = initialize_centroid(X)\n",
    "    for i in range(max_iteration):\n",
    "        old_centroids = new_centroids\n",
    "        labels = assign_cluster(X, old_centroids)\n",
    "        new_centroids = compute_centroids(X, labels)\n",
    "        if np.all(old_centroids == new_centroids):\n",
    "            break\n",
    "    sse.append(compute_sse(X,labels, new_centroids))\n",
    "    cent.append(new_centroids)\n",
    "\n",
    "plt.scatter(X[:,0], X[:,1])\n",
    "plt.scatter(new_centroids[:,0], new_centroids[:,1], s=300, c='red')\n",
    "plt.show()"
   ]
  },
  {
   "cell_type": "code",
   "execution_count": 16,
   "metadata": {
    "scrolled": true
   },
   "outputs": [
    {
     "name": "stdout",
     "output_type": "stream",
     "text": [
      "(300, 2)\n",
      "300\n",
      "[9 3 2 0 7 5 4 8 6 1]\n"
     ]
    },
    {
     "data": {
      "text/plain": [
       "array([ 16,  47, 262,  15, 118, 148,   5, 263, 214, 223, 137, 296, 277,\n",
       "        58,  23, 180,  63,  42,   1,  69, 112,  30,  64, 131,  71,  72,\n",
       "        77, 191, 172,  88, 111, 254, 242, 150,   7, 192, 142, 266,  67,\n",
       "       292, 153, 264, 209, 198, 163,  22, 225, 105, 119, 238, 169,  75,\n",
       "       289, 273,  26, 286, 259, 123,  37, 282, 102, 171,  18, 210, 267,\n",
       "       219, 156, 275,  53, 258, 220, 298, 162, 106, 132, 100,  73,  27,\n",
       "        81,  45, 166,  97, 161, 196, 243,  85, 147, 252,  91,  79, 194,\n",
       "        17, 244, 250, 235,  33,  48, 159,  95, 146, 175, 218,  38,  55,\n",
       "       215, 184,  70,  32, 224, 279, 256, 177, 138,  21,  49, 129,  90,\n",
       "       204, 251, 226,  54, 245,  39, 139,  83,  29, 107,   8, 294, 291,\n",
       "       197,  10, 280, 189,  36,  57, 124, 160,  66,  87, 126, 193,  20,\n",
       "       203, 178, 201, 183, 299,  28, 272, 130, 278,  44, 155, 195, 152,\n",
       "        74,  62, 212,  82, 140, 255, 222, 274, 232, 287, 115,  99, 200,\n",
       "        98, 270, 182, 281, 101, 249, 143, 158,   0,  12,  60, 247, 283,\n",
       "       236, 293, 288, 297,  96, 207, 134, 216, 181, 269, 173, 109, 248,\n",
       "         6, 188,  78, 217, 122,  35, 239, 149,  56, 261, 205, 234, 290,\n",
       "       295, 221, 187,  86,  84,  25, 253, 190,  76,  46, 202,  59, 233,\n",
       "       121, 165, 110,  61, 103, 125, 114, 133, 144, 157, 227, 208, 186,\n",
       "       141, 116,  92, 176, 179, 257,  51,  19, 285,   3, 185, 151, 268,\n",
       "       170, 229, 174, 145, 154, 246,  41,  43,  65, 113,  40, 199,   4,\n",
       "       213, 164,  13, 265, 284, 135, 167, 127,  34,  80, 228, 206,  24,\n",
       "        68,  50,  52, 240, 231, 120, 136,  14,  31,  89, 260, 117, 276,\n",
       "        94,  11, 237, 271, 211,   9, 168, 230,  93,   2, 108, 128, 241,\n",
       "       104])"
      ]
     },
     "execution_count": 16,
     "metadata": {},
     "output_type": "execute_result"
    }
   ],
   "source": [
    "print(X.shape)\n",
    "print(X.shape[0])\n",
    "random_idx = np.random.permutation(X.shape[0])\n",
    "print(np.random.permutation(10))\n",
    "random_idx"
   ]
  },
  {
   "cell_type": "code",
   "execution_count": 50,
   "metadata": {},
   "outputs": [
    {
     "name": "stdout",
     "output_type": "stream",
     "text": [
      "[ 16  47 262  15]\n"
     ]
    }
   ],
   "source": [
    "print(random_idx[:n_clusters])\n",
    "centroids = X[random_idx[:n_clusters]]"
   ]
  },
  {
   "cell_type": "code",
   "execution_count": 22,
   "metadata": {},
   "outputs": [
    {
     "name": "stdout",
     "output_type": "stream",
     "text": [
      "(300, 4)\n"
     ]
    }
   ],
   "source": [
    "distance = np.zeros((X.shape[0], n_clusters))\n",
    "print(distance.shape)"
   ]
  },
  {
   "cell_type": "code",
   "execution_count": 52,
   "metadata": {},
   "outputs": [
    {
     "data": {
      "text/plain": [
       "array([[2.23579918e+01, 2.93775270e+01, 2.66775228e+01, 4.72247829e-01],\n",
       "       [2.78195161e+01, 3.58045252e+01, 3.26314001e+01, 9.32703977e-01],\n",
       "       [1.85036998e+01, 2.51835414e+01, 2.24652445e+01, 1.32378538e+00],\n",
       "       [5.06101702e-01, 1.15085374e+00, 4.10650832e-01, 3.02046557e+01],\n",
       "       [1.62032865e+00, 8.67497170e-01, 7.59484782e-01, 3.93983324e+01],\n",
       "       [2.51084632e+01, 3.18940032e+01, 2.95867673e+01, 0.00000000e+00],\n",
       "       [0.00000000e+00, 6.43138411e-01, 1.92090266e-01, 2.51084632e+01],\n",
       "       [2.49352264e+01, 3.18702935e+01, 2.94285446e+01, 2.87813716e-02],\n",
       "       [2.23127573e+01, 2.89057515e+01, 2.65732799e+01, 1.08740979e-01],\n",
       "       [5.06011963e-01, 9.65614112e-02, 7.67902999e-02, 3.24148233e+01]])"
      ]
     },
     "execution_count": 52,
     "metadata": {},
     "output_type": "execute_result"
    }
   ],
   "source": [
    "distance = np.zeros((X.shape[0], n_clusters))\n",
    "for k in range(n_clusters):\n",
    "    row_norm = np.linalg.norm(X - centroids[k, :], axis=1)\n",
    "    distance[:, k] = np.square(row_norm)\n",
    "\n",
    "cluster_label = np.argmin(distance, axis=1)\n",
    "distance[10:20]"
   ]
  },
  {
   "cell_type": "code",
   "execution_count": 53,
   "metadata": {},
   "outputs": [
    {
     "data": {
      "text/plain": [
       "array([3, 3, 3, 2, 2, 3, 0, 3, 3, 2], dtype=int64)"
      ]
     },
     "execution_count": 53,
     "metadata": {},
     "output_type": "execute_result"
    }
   ],
   "source": [
    "cluster_label[10:20]"
   ]
  },
  {
   "cell_type": "code",
   "execution_count": 41,
   "metadata": {},
   "outputs": [
    {
     "data": {
      "text/plain": [
       "array([False, False, False, False,  True, False, False, False, False,\n",
       "       False, False, False, False,  True, False, False, False, False,\n",
       "       False, False, False, False, False, False, False, False, False,\n",
       "        True, False, False,  True, False,  True, False,  True, False,\n",
       "       False,  True, False, False, False, False,  True, False,  True,\n",
       "        True, False,  True,  True, False,  True, False,  True, False,\n",
       "       False, False,  True, False, False,  True, False, False, False,\n",
       "       False, False, False,  True, False, False, False, False,  True,\n",
       "       False,  True, False,  True,  True, False, False,  True, False,\n",
       "        True, False, False, False, False, False, False, False, False,\n",
       "       False, False, False, False, False,  True, False, False, False,\n",
       "       False,  True, False, False, False, False, False,  True, False,\n",
       "        True, False, False, False,  True,  True, False, False,  True,\n",
       "       False, False, False,  True, False, False, False, False, False,\n",
       "       False, False, False, False, False, False, False, False, False,\n",
       "       False,  True,  True,  True, False, False, False, False, False,\n",
       "        True, False,  True, False, False,  True, False, False, False,\n",
       "        True, False, False, False, False, False, False, False, False,\n",
       "       False, False, False, False, False, False,  True, False, False,\n",
       "       False,  True, False,  True,  True, False,  True, False, False,\n",
       "       False, False, False, False, False, False, False, False, False,\n",
       "       False, False,  True,  True, False, False, False, False, False,\n",
       "        True, False, False,  True,  True, False,  True,  True, False,\n",
       "       False, False,  True, False, False, False, False, False, False,\n",
       "        True,  True, False, False, False, False,  True, False,  True,\n",
       "       False, False, False, False, False, False,  True, False,  True,\n",
       "       False, False,  True, False,  True, False, False,  True,  True,\n",
       "       False,  True, False,  True, False, False, False,  True, False,\n",
       "        True, False, False, False,  True, False, False, False, False,\n",
       "       False, False, False, False,  True,  True, False, False, False,\n",
       "       False, False, False, False,  True, False, False,  True, False,\n",
       "       False, False,  True, False, False, False, False, False,  True,\n",
       "        True, False, False,  True, False, False, False, False, False,\n",
       "       False, False,  True])"
      ]
     },
     "execution_count": 41,
     "metadata": {},
     "output_type": "execute_result"
    }
   ],
   "source": [
    "cluster_label == 1"
   ]
  },
  {
   "cell_type": "code",
   "execution_count": 40,
   "metadata": {},
   "outputs": [
    {
     "data": {
      "text/plain": [
       "array([3, 3, 3, 3, 1, 3, 3, 3, 3, 3, 3, 0, 2, 1, 2, 3, 0, 3, 2, 0, 3, 3,\n",
       "       0, 3, 0, 3, 3, 1, 3, 3, 1, 3, 1, 3, 1, 3, 3, 1, 3, 3, 3, 3, 1, 2,\n",
       "       1, 1, 0, 1, 1, 3, 1, 2, 1, 2, 3, 3, 1, 2, 3, 1, 3, 3, 3, 3, 0, 3,\n",
       "       1, 3, 2, 0, 3, 1, 3, 1, 2, 1, 1, 3, 0, 1, 3, 1, 3, 3, 2, 3, 3, 2,\n",
       "       3, 2, 0, 0, 3, 2, 2, 1, 3, 3, 3, 3, 1, 3, 3, 3, 3, 3, 1, 2, 1, 2,\n",
       "       3, 0, 1, 1, 3, 3, 1, 3, 3, 3, 1, 3, 0, 2, 0, 3, 3, 3, 3, 2, 3, 3,\n",
       "       0, 0, 3, 3, 1, 1, 1, 2, 3, 0, 3, 3, 1, 3, 1, 2, 3, 1, 3, 3, 2, 1,\n",
       "       2, 3, 3, 3, 3, 3, 0, 3, 3, 3, 2, 3, 3, 3, 1, 3, 3, 3, 1, 3, 1, 1,\n",
       "       0, 1, 2, 2, 0, 2, 3, 3, 0, 0, 0, 0, 3, 3, 3, 1, 1, 3, 0, 3, 3, 3,\n",
       "       1, 3, 3, 1, 1, 3, 1, 1, 3, 3, 3, 1, 3, 3, 2, 3, 3, 2, 1, 1, 3, 2,\n",
       "       0, 2, 1, 3, 1, 3, 2, 3, 3, 3, 2, 1, 3, 1, 3, 3, 1, 3, 1, 3, 2, 1,\n",
       "       1, 2, 1, 3, 1, 3, 0, 3, 1, 3, 1, 3, 0, 3, 1, 3, 2, 3, 0, 2, 2, 0,\n",
       "       3, 1, 1, 3, 3, 3, 3, 3, 2, 3, 1, 3, 3, 1, 3, 3, 0, 1, 0, 2, 2, 3,\n",
       "       3, 1, 1, 2, 3, 1, 3, 3, 0, 3, 3, 2, 3, 1], dtype=int64)"
      ]
     },
     "execution_count": 40,
     "metadata": {},
     "output_type": "execute_result"
    }
   ],
   "source": [
    "cluster_label"
   ]
  },
  {
   "cell_type": "code",
   "execution_count": 44,
   "metadata": {},
   "outputs": [
    {
     "data": {
      "text/plain": [
       "(75, 2)"
      ]
     },
     "execution_count": 44,
     "metadata": {},
     "output_type": "execute_result"
    }
   ],
   "source": [
    "X[labels == 2, :].shape"
   ]
  },
  {
   "cell_type": "code",
   "execution_count": null,
   "metadata": {},
   "outputs": [],
   "source": []
  }
 ],
 "metadata": {
  "kernelspec": {
   "display_name": "Python 3",
   "language": "python",
   "name": "python3"
  },
  "language_info": {
   "codemirror_mode": {
    "name": "ipython",
    "version": 3
   },
   "file_extension": ".py",
   "mimetype": "text/x-python",
   "name": "python",
   "nbconvert_exporter": "python",
   "pygments_lexer": "ipython3",
   "version": "3.7.4"
  }
 },
 "nbformat": 4,
 "nbformat_minor": 2
}
